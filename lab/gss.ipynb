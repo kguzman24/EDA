{
 "cells": [
  {
   "cell_type": "markdown",
   "metadata": {},
   "source": [
    "## EDA LAB\n",
    "\n",
    "The General Social Survey (GSS) is a bi-annual nationally representative survey of Americans, with almost 7000 different questions asked since the survey began in the 1970s. It has straightforward questions about respondents' demographic information, but also questions like \"Does your job regularly require you to perform repetitive or forceful hand movements or involve awkward postures?\" or \"How often do the demands of your job interfere with your family life?\" There are a variety of controversial questions. No matter what you're curious about, there's something interesting in here to check out. The codebook is 904 pages (use CTRL+F to search it).\n",
    "\n",
    "The data and codebook are available at:\n",
    "https://gss.norc.org/us/en/gss/get-the-data.html\n",
    "\n",
    "The datasets are so large that it might make sense to pick the variables you want, and then download just those variables from:\n",
    "https://gssdataexplorer.norc.org/variables/vfilter\n",
    "\n",
    "Here is your task:\n",
    "1. Download a small (5-15) set of variables of interest.\n",
    "2. Write a short description of the data you chose, and why. (1 page)\n",
    "3. Load the data using Pandas. Clean them up for EDA. Do this in a notebook with comments or markdown chunks explaining your choices.\n",
    "4. Produce some numeric summaries and visualizations. (1-3 pages)\n",
    "5. Describe your findings in 1-2 pages.\n",
    "6. If you have other content that you think absolutely must be included, you can include it in an appendix of any length.\n",
    "\n",
    "For example, you might want to look at how aspects of a person's childhood family are correlated or not with their career or family choices as an adult. Or how political or religious affiliations correlate with drug use or sexual practices. It's an extremely wide-ranging survey.\n",
    "\n",
    "Feel free to work with other people in groups, and ask questions!"
   ]
  },
  {
   "cell_type": "markdown",
   "metadata": {},
   "source": [
    "#### 2. Data I Chose\n",
    "I chose this set of variables because I was interested in exploring any potential relationship between work life to personal life, specifically within partners. I chose variables that involved the respondent's and their partner's job, the respondent's values on certain topics that may affect a marriage/relationship, levels of stress, and a question for potential unfaithful partners. I also wanted to take into account whether the respondent was a parent and ow they view their life now. I felt that the stress levels due to work may or may not have a connection to unhappiness in a relationship and life in general. Curious, I included the question about potential unfaithful partners to specifically explore the relationship between stress and unfaithfulness, if one exists (within this dataset)."
   ]
  },
  {
   "cell_type": "markdown",
   "metadata": {},
   "source": [
    "#### 3. Importing the Data Set"
   ]
  },
  {
   "cell_type": "code",
   "execution_count": null,
   "metadata": {},
   "outputs": [
    {
     "name": "stdout",
     "output_type": "stream",
     "text": [
      "/mnt/c/Users/krngz/OneDrive - University of Virginia/DS 3021 - Analytics/DS3021_repo/EDA/lab\n"
     ]
    }
   ],
   "source": [
    "#importing data set \n",
    "import pandas as pd\n",
    "import matplotlib.pyplot as plt\n",
    "import seaborn as sns\n",
    "import numpy as np\n",
    "import os\n",
    "\n",
    "\n",
    "print(os.getcwd())\n",
    "\n",
    "#GSS_data = pd.read_csv(\"../data/GSS.csv\")\n",
    "\n",
    "#cleaning data set\n",
    "\n"
   ]
  },
  {
   "cell_type": "markdown",
   "metadata": {},
   "source": [
    "#### 4. Visualizations"
   ]
  },
  {
   "cell_type": "code",
   "execution_count": null,
   "metadata": {},
   "outputs": [],
   "source": [
    "#work stressful and industry of respondent"
   ]
  },
  {
   "cell_type": "code",
   "execution_count": null,
   "metadata": {},
   "outputs": [],
   "source": [
    "#work stressful and hours worked"
   ]
  },
  {
   "cell_type": "code",
   "execution_count": null,
   "metadata": {},
   "outputs": [],
   "source": [
    "#industry of respondent and hours worked "
   ]
  },
  {
   "cell_type": "code",
   "execution_count": null,
   "metadata": {},
   "outputs": [],
   "source": [
    "#boxplot of happiness of marriage vs divorce law perspective\n"
   ]
  },
  {
   "cell_type": "code",
   "execution_count": null,
   "metadata": {},
   "outputs": [],
   "source": [
    "#demands of family interfering with work and life now"
   ]
  },
  {
   "cell_type": "code",
   "execution_count": null,
   "metadata": {},
   "outputs": [],
   "source": [
    "#relationship to last sex partner and opinion about a married person having sexual relations with someone other than the marriage partner"
   ]
  },
  {
   "cell_type": "code",
   "execution_count": null,
   "metadata": {},
   "outputs": [],
   "source": [
    "#relationship to last sex partner and biological parent of child under 18 in household"
   ]
  },
  {
   "cell_type": "markdown",
   "metadata": {},
   "source": [
    "#### 5. Findings"
   ]
  }
 ],
 "metadata": {
  "kernelspec": {
   "display_name": "Python 3",
   "language": "python",
   "name": "python3"
  },
  "language_info": {
   "codemirror_mode": {
    "name": "ipython",
    "version": 3
   },
   "file_extension": ".py",
   "mimetype": "text/x-python",
   "name": "python",
   "nbconvert_exporter": "python",
   "pygments_lexer": "ipython3",
   "version": "3.10.12"
  }
 },
 "nbformat": 4,
 "nbformat_minor": 2
}
